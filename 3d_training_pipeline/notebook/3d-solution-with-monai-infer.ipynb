{
 "cells": [
  {
   "cell_type": "markdown",
   "id": "c23f0928",
   "metadata": {
    "papermill": {
     "duration": 0.019051,
     "end_time": "2022-06-05T14:34:23.985260",
     "exception": false,
     "start_time": "2022-06-05T14:34:23.966209",
     "status": "completed"
    },
    "tags": []
   },
   "source": [
    "## Load Libs"
   ]
  },
  {
   "cell_type": "code",
   "execution_count": 1,
   "id": "fc80f4cc",
   "metadata": {
    "execution": {
     "iopub.execute_input": "2022-06-05T14:34:24.074322Z",
     "iopub.status.busy": "2022-06-05T14:34:24.073711Z",
     "iopub.status.idle": "2022-06-05T14:34:32.678932Z",
     "shell.execute_reply": "2022-06-05T14:34:32.679350Z",
     "shell.execute_reply.started": "2022-06-05T14:30:33.010424Z"
    },
    "papermill": {
     "duration": 8.627492,
     "end_time": "2022-06-05T14:34:32.679552",
     "exception": false,
     "start_time": "2022-06-05T14:34:24.052060",
     "status": "completed"
    },
    "tags": []
   },
   "outputs": [],
   "source": [
    "import gc\n",
    "from glob import glob\n",
    "import os\n",
    "import numpy as np\n",
    "import pandas as pd\n",
    "import torch\n",
    "from torch import nn\n",
    "from monai.inferers import sliding_window_inference\n",
    "from monai.data import decollate_batch\n",
    "from monai.handlers.utils import from_engine\n",
    "from monai.networks.nets import UNet\n",
    "from torch.cuda.amp import GradScaler, autocast\n",
    "from tqdm import tqdm\n",
    "import json"
   ]
  },
  {
   "cell_type": "code",
   "execution_count": 2,
   "id": "eb6ba459",
   "metadata": {
    "execution": {
     "iopub.execute_input": "2022-06-05T14:34:32.720638Z",
     "iopub.status.busy": "2022-06-05T14:34:32.719792Z",
     "iopub.status.idle": "2022-06-05T14:34:32.721584Z",
     "shell.execute_reply": "2022-06-05T14:34:32.722016Z",
     "shell.execute_reply.started": "2022-06-05T14:30:41.486035Z"
    },
    "papermill": {
     "duration": 0.024379,
     "end_time": "2022-06-05T14:34:32.722143",
     "exception": false,
     "start_time": "2022-06-05T14:34:32.697764",
     "status": "completed"
    },
    "tags": []
   },
   "outputs": [],
   "source": [
    "from monai.data import CacheDataset, DataLoader\n",
    "from monai.transforms import (\n",
    "    Compose,\n",
    "    Activations,\n",
    "    AsDiscrete,\n",
    "    Activationsd,\n",
    "    AsDiscreted,\n",
    "    KeepLargestConnectedComponentd,\n",
    "    Invertd,\n",
    "    LoadImage,\n",
    "    Transposed,\n",
    "    LoadImaged,\n",
    "    AddChanneld,\n",
    "    CastToTyped,\n",
    "    Lambdad,\n",
    "    Resized,\n",
    "    EnsureTyped,\n",
    "    SpatialPadd,\n",
    "    EnsureChannelFirstd,\n",
    ")"
   ]
  },
  {
   "cell_type": "markdown",
   "id": "aa5f56c9",
   "metadata": {
    "papermill": {
     "duration": 0.016832,
     "end_time": "2022-06-05T14:34:32.755943",
     "exception": false,
     "start_time": "2022-06-05T14:34:32.739111",
     "status": "completed"
    },
    "tags": []
   },
   "source": [
    "## Prepare meta info."
   ]
  },
  {
   "cell_type": "markdown",
   "id": "ad4b826b",
   "metadata": {
    "papermill": {
     "duration": 0.016799,
     "end_time": "2022-06-05T14:34:32.789774",
     "exception": false,
     "start_time": "2022-06-05T14:34:32.772975",
     "status": "completed"
    },
    "tags": []
   },
   "source": [
    "### Thanks awsaf49, this section refers to:\n",
    "https://www.kaggle.com/code/awsaf49/uwmgi-2-5d-infer-pytorch"
   ]
  },
  {
   "cell_type": "code",
   "execution_count": 3,
   "id": "bb904ccb",
   "metadata": {
    "execution": {
     "iopub.execute_input": "2022-06-05T14:34:32.832946Z",
     "iopub.status.busy": "2022-06-05T14:34:32.831448Z",
     "iopub.status.idle": "2022-06-05T14:34:32.835172Z",
     "shell.execute_reply": "2022-06-05T14:34:32.834756Z",
     "shell.execute_reply.started": "2022-06-05T14:30:41.496119Z"
    },
    "papermill": {
     "duration": 0.028479,
     "end_time": "2022-06-05T14:34:32.835281",
     "exception": false,
     "start_time": "2022-06-05T14:34:32.806802",
     "status": "completed"
    },
    "tags": []
   },
   "outputs": [],
   "source": [
    "def get_metadata(row):\n",
    "    data = row['id'].split('_')\n",
    "    case = int(data[0].replace('case',''))\n",
    "    day = int(data[1].replace('day',''))\n",
    "    slice_ = int(data[-1])\n",
    "    row['case'] = case\n",
    "    row['day'] = day\n",
    "    row['slice'] = slice_\n",
    "    return row\n",
    "\n",
    "def path2info(row):\n",
    "    path = row['image_path']\n",
    "    data = path.split('/')\n",
    "    slice_ = int(data[-1].split('_')[1])\n",
    "    case = int(data[-3].split('_')[0].replace('case',''))\n",
    "    day = int(data[-3].split('_')[1].replace('day',''))\n",
    "    width = int(data[-1].split('_')[2])\n",
    "    height = int(data[-1].split('_')[3])\n",
    "    row['height'] = height\n",
    "    row['width'] = width\n",
    "    row['case'] = case\n",
    "    row['day'] = day\n",
    "    row['slice'] = slice_\n",
    "    return row"
   ]
  },
  {
   "cell_type": "code",
   "execution_count": 4,
   "id": "f1b07b9f",
   "metadata": {
    "execution": {
     "iopub.execute_input": "2022-06-05T14:34:32.875389Z",
     "iopub.status.busy": "2022-06-05T14:34:32.874821Z",
     "iopub.status.idle": "2022-06-05T14:34:34.707840Z",
     "shell.execute_reply": "2022-06-05T14:34:34.707264Z",
     "shell.execute_reply.started": "2022-06-05T14:30:41.514849Z"
    },
    "papermill": {
     "duration": 1.855775,
     "end_time": "2022-06-05T14:34:34.707969",
     "exception": false,
     "start_time": "2022-06-05T14:34:32.852194",
     "status": "completed"
    },
    "tags": []
   },
   "outputs": [],
   "source": [
    "sub_df = pd.read_csv('/data/uvseg/uw-madison-gi-tract-image-segmentation/sample_submission.csv')\n",
    "if not len(sub_df):\n",
    "    debug = True\n",
    "    sub_df = pd.read_csv('/data/uvseg/uw-madison-gi-tract-image-segmentation/train.csv')[:1000*3]\n",
    "    sub_df = sub_df.drop(columns=['class','segmentation']).drop_duplicates()\n",
    "else:\n",
    "    debug = False\n",
    "    sub_df = sub_df.drop(columns=['class','predicted']).drop_duplicates()\n",
    "sub_df = sub_df.apply(lambda x: get_metadata(x),axis=1)"
   ]
  },
  {
   "cell_type": "code",
   "execution_count": 5,
   "id": "b8a9b593",
   "metadata": {},
   "outputs": [
    {
     "name": "stdout",
     "output_type": "stream",
     "text": [
      "True\n"
     ]
    }
   ],
   "source": [
    "print(debug)"
   ]
  },
  {
   "cell_type": "code",
   "execution_count": 6,
   "id": "a3dc2eaa",
   "metadata": {
    "execution": {
     "iopub.execute_input": "2022-06-05T14:34:34.747215Z",
     "iopub.status.busy": "2022-06-05T14:34:34.746354Z",
     "iopub.status.idle": "2022-06-05T14:36:07.220712Z",
     "shell.execute_reply": "2022-06-05T14:36:07.221130Z",
     "shell.execute_reply.started": "2022-06-05T14:30:43.974390Z"
    },
    "papermill": {
     "duration": 92.494351,
     "end_time": "2022-06-05T14:36:07.221276",
     "exception": false,
     "start_time": "2022-06-05T14:34:34.726925",
     "status": "completed"
    },
    "tags": []
   },
   "outputs": [
    {
     "data": {
      "text/html": [
       "<div>\n",
       "<style scoped>\n",
       "    .dataframe tbody tr th:only-of-type {\n",
       "        vertical-align: middle;\n",
       "    }\n",
       "\n",
       "    .dataframe tbody tr th {\n",
       "        vertical-align: top;\n",
       "    }\n",
       "\n",
       "    .dataframe thead th {\n",
       "        text-align: right;\n",
       "    }\n",
       "</style>\n",
       "<table border=\"1\" class=\"dataframe\">\n",
       "  <thead>\n",
       "    <tr style=\"text-align: right;\">\n",
       "      <th></th>\n",
       "      <th>image_path</th>\n",
       "      <th>height</th>\n",
       "      <th>width</th>\n",
       "      <th>case</th>\n",
       "      <th>day</th>\n",
       "      <th>slice</th>\n",
       "    </tr>\n",
       "  </thead>\n",
       "  <tbody>\n",
       "    <tr>\n",
       "      <th>0</th>\n",
       "      <td>/data/uvseg/uw-madison-gi-tract-image-segmenta...</td>\n",
       "      <td>266</td>\n",
       "      <td>266</td>\n",
       "      <td>149</td>\n",
       "      <td>12</td>\n",
       "      <td>4</td>\n",
       "    </tr>\n",
       "    <tr>\n",
       "      <th>1</th>\n",
       "      <td>/data/uvseg/uw-madison-gi-tract-image-segmenta...</td>\n",
       "      <td>266</td>\n",
       "      <td>266</td>\n",
       "      <td>149</td>\n",
       "      <td>12</td>\n",
       "      <td>56</td>\n",
       "    </tr>\n",
       "    <tr>\n",
       "      <th>2</th>\n",
       "      <td>/data/uvseg/uw-madison-gi-tract-image-segmenta...</td>\n",
       "      <td>266</td>\n",
       "      <td>266</td>\n",
       "      <td>149</td>\n",
       "      <td>12</td>\n",
       "      <td>3</td>\n",
       "    </tr>\n",
       "    <tr>\n",
       "      <th>3</th>\n",
       "      <td>/data/uvseg/uw-madison-gi-tract-image-segmenta...</td>\n",
       "      <td>266</td>\n",
       "      <td>266</td>\n",
       "      <td>149</td>\n",
       "      <td>12</td>\n",
       "      <td>74</td>\n",
       "    </tr>\n",
       "    <tr>\n",
       "      <th>4</th>\n",
       "      <td>/data/uvseg/uw-madison-gi-tract-image-segmenta...</td>\n",
       "      <td>266</td>\n",
       "      <td>266</td>\n",
       "      <td>149</td>\n",
       "      <td>12</td>\n",
       "      <td>8</td>\n",
       "    </tr>\n",
       "  </tbody>\n",
       "</table>\n",
       "</div>"
      ],
      "text/plain": [
       "                                          image_path  height  width  case  \\\n",
       "0  /data/uvseg/uw-madison-gi-tract-image-segmenta...     266    266   149   \n",
       "1  /data/uvseg/uw-madison-gi-tract-image-segmenta...     266    266   149   \n",
       "2  /data/uvseg/uw-madison-gi-tract-image-segmenta...     266    266   149   \n",
       "3  /data/uvseg/uw-madison-gi-tract-image-segmenta...     266    266   149   \n",
       "4  /data/uvseg/uw-madison-gi-tract-image-segmenta...     266    266   149   \n",
       "\n",
       "   day  slice  \n",
       "0   12      4  \n",
       "1   12     56  \n",
       "2   12      3  \n",
       "3   12     74  \n",
       "4   12      8  "
      ]
     },
     "execution_count": 6,
     "metadata": {},
     "output_type": "execute_result"
    }
   ],
   "source": [
    "if debug:\n",
    "    paths = glob(f'/data/uvseg/uw-madison-gi-tract-image-segmentation/train/**/*png',recursive=True)\n",
    "#     paths = sorted(paths)\n",
    "else:\n",
    "    paths = glob(f'/data/uvseg/uw-madison-gi-tract-image-segmentation/test/**/*png',recursive=True)\n",
    "#     paths = sorted(paths)\n",
    "path_df = pd.DataFrame(paths, columns=['image_path'])\n",
    "path_df = path_df.apply(lambda x: path2info(x),axis=1)\n",
    "path_df.head()"
   ]
  },
  {
   "cell_type": "markdown",
   "id": "90eef462",
   "metadata": {
    "papermill": {
     "duration": 0.017737,
     "end_time": "2022-06-05T14:36:07.256863",
     "exception": false,
     "start_time": "2022-06-05T14:36:07.239126",
     "status": "completed"
    },
    "tags": []
   },
   "source": [
    "## Produce 3d data list for MONAI DataSet"
   ]
  },
  {
   "cell_type": "code",
   "execution_count": 30,
   "id": "e5eeb733",
   "metadata": {
    "execution": {
     "iopub.execute_input": "2022-06-05T14:36:07.300915Z",
     "iopub.status.busy": "2022-06-05T14:36:07.299962Z",
     "iopub.status.idle": "2022-06-05T14:36:07.320573Z",
     "shell.execute_reply": "2022-06-05T14:36:07.320094Z",
     "shell.execute_reply.started": "2022-06-05T14:32:57.698276Z"
    },
    "papermill": {
     "duration": 0.045884,
     "end_time": "2022-06-05T14:36:07.320690",
     "exception": false,
     "start_time": "2022-06-05T14:36:07.274806",
     "status": "completed"
    },
    "tags": []
   },
   "outputs": [],
   "source": [
    "test_df = sub_df.merge(path_df, on=['case','day','slice'], how='left', suffixes=('_y',''))\n",
    "test_df[\"case_id_str\"] = test_df[\"id\"].apply(lambda x: x.split(\"_\", 2)[0])\n",
    "test_df[\"day_num_str\"] = test_df[\"id\"].apply(lambda x: x.split(\"_\", 2)[1])\n",
    "test_df[\"slice_id\"] = test_df[\"id\"].apply(lambda x: x.split(\"_\", 2)[2])"
   ]
  },
  {
   "cell_type": "code",
   "execution_count": 31,
   "id": "07f8d29e",
   "metadata": {},
   "outputs": [
    {
     "data": {
      "text/html": [
       "<div>\n",
       "<style scoped>\n",
       "    .dataframe tbody tr th:only-of-type {\n",
       "        vertical-align: middle;\n",
       "    }\n",
       "\n",
       "    .dataframe tbody tr th {\n",
       "        vertical-align: top;\n",
       "    }\n",
       "\n",
       "    .dataframe thead th {\n",
       "        text-align: right;\n",
       "    }\n",
       "</style>\n",
       "<table border=\"1\" class=\"dataframe\">\n",
       "  <thead>\n",
       "    <tr style=\"text-align: right;\">\n",
       "      <th></th>\n",
       "      <th>id</th>\n",
       "      <th>case</th>\n",
       "      <th>day</th>\n",
       "      <th>slice</th>\n",
       "      <th>image_path_y</th>\n",
       "      <th>height_y</th>\n",
       "      <th>width_y</th>\n",
       "      <th>mask_path</th>\n",
       "      <th>image_path</th>\n",
       "      <th>height</th>\n",
       "      <th>width</th>\n",
       "      <th>case_id_str</th>\n",
       "      <th>day_num_str</th>\n",
       "      <th>slice_id</th>\n",
       "    </tr>\n",
       "  </thead>\n",
       "  <tbody>\n",
       "    <tr>\n",
       "      <th>0</th>\n",
       "      <td>case123_day20_slice_0001</td>\n",
       "      <td>123</td>\n",
       "      <td>20</td>\n",
       "      <td>1</td>\n",
       "      <td>/kaggle/input/uw-madison-gi-tract-image-segmen...</td>\n",
       "      <td>266</td>\n",
       "      <td>266</td>\n",
       "      <td>/data/uvseg/uw-madison-gi-tract-image-segmenta...</td>\n",
       "      <td>/data/uvseg/uw-madison-gi-tract-image-segmenta...</td>\n",
       "      <td>266</td>\n",
       "      <td>266</td>\n",
       "      <td>case123</td>\n",
       "      <td>day20</td>\n",
       "      <td>slice_0001</td>\n",
       "    </tr>\n",
       "    <tr>\n",
       "      <th>1</th>\n",
       "      <td>case123_day20_slice_0002</td>\n",
       "      <td>123</td>\n",
       "      <td>20</td>\n",
       "      <td>2</td>\n",
       "      <td>/kaggle/input/uw-madison-gi-tract-image-segmen...</td>\n",
       "      <td>266</td>\n",
       "      <td>266</td>\n",
       "      <td>/data/uvseg/uw-madison-gi-tract-image-segmenta...</td>\n",
       "      <td>/data/uvseg/uw-madison-gi-tract-image-segmenta...</td>\n",
       "      <td>266</td>\n",
       "      <td>266</td>\n",
       "      <td>case123</td>\n",
       "      <td>day20</td>\n",
       "      <td>slice_0002</td>\n",
       "    </tr>\n",
       "    <tr>\n",
       "      <th>2</th>\n",
       "      <td>case123_day20_slice_0003</td>\n",
       "      <td>123</td>\n",
       "      <td>20</td>\n",
       "      <td>3</td>\n",
       "      <td>/kaggle/input/uw-madison-gi-tract-image-segmen...</td>\n",
       "      <td>266</td>\n",
       "      <td>266</td>\n",
       "      <td>/data/uvseg/uw-madison-gi-tract-image-segmenta...</td>\n",
       "      <td>/data/uvseg/uw-madison-gi-tract-image-segmenta...</td>\n",
       "      <td>266</td>\n",
       "      <td>266</td>\n",
       "      <td>case123</td>\n",
       "      <td>day20</td>\n",
       "      <td>slice_0003</td>\n",
       "    </tr>\n",
       "    <tr>\n",
       "      <th>3</th>\n",
       "      <td>case123_day20_slice_0004</td>\n",
       "      <td>123</td>\n",
       "      <td>20</td>\n",
       "      <td>4</td>\n",
       "      <td>/kaggle/input/uw-madison-gi-tract-image-segmen...</td>\n",
       "      <td>266</td>\n",
       "      <td>266</td>\n",
       "      <td>/data/uvseg/uw-madison-gi-tract-image-segmenta...</td>\n",
       "      <td>/data/uvseg/uw-madison-gi-tract-image-segmenta...</td>\n",
       "      <td>266</td>\n",
       "      <td>266</td>\n",
       "      <td>case123</td>\n",
       "      <td>day20</td>\n",
       "      <td>slice_0004</td>\n",
       "    </tr>\n",
       "    <tr>\n",
       "      <th>4</th>\n",
       "      <td>case123_day20_slice_0005</td>\n",
       "      <td>123</td>\n",
       "      <td>20</td>\n",
       "      <td>5</td>\n",
       "      <td>/kaggle/input/uw-madison-gi-tract-image-segmen...</td>\n",
       "      <td>266</td>\n",
       "      <td>266</td>\n",
       "      <td>/data/uvseg/uw-madison-gi-tract-image-segmenta...</td>\n",
       "      <td>/data/uvseg/uw-madison-gi-tract-image-segmenta...</td>\n",
       "      <td>266</td>\n",
       "      <td>266</td>\n",
       "      <td>case123</td>\n",
       "      <td>day20</td>\n",
       "      <td>slice_0005</td>\n",
       "    </tr>\n",
       "  </tbody>\n",
       "</table>\n",
       "</div>"
      ],
      "text/plain": [
       "                         id  case  day  slice  \\\n",
       "0  case123_day20_slice_0001   123   20      1   \n",
       "1  case123_day20_slice_0002   123   20      2   \n",
       "2  case123_day20_slice_0003   123   20      3   \n",
       "3  case123_day20_slice_0004   123   20      4   \n",
       "4  case123_day20_slice_0005   123   20      5   \n",
       "\n",
       "                                        image_path_y  height_y  width_y  \\\n",
       "0  /kaggle/input/uw-madison-gi-tract-image-segmen...       266      266   \n",
       "1  /kaggle/input/uw-madison-gi-tract-image-segmen...       266      266   \n",
       "2  /kaggle/input/uw-madison-gi-tract-image-segmen...       266      266   \n",
       "3  /kaggle/input/uw-madison-gi-tract-image-segmen...       266      266   \n",
       "4  /kaggle/input/uw-madison-gi-tract-image-segmen...       266      266   \n",
       "\n",
       "                                           mask_path  \\\n",
       "0  /data/uvseg/uw-madison-gi-tract-image-segmenta...   \n",
       "1  /data/uvseg/uw-madison-gi-tract-image-segmenta...   \n",
       "2  /data/uvseg/uw-madison-gi-tract-image-segmenta...   \n",
       "3  /data/uvseg/uw-madison-gi-tract-image-segmenta...   \n",
       "4  /data/uvseg/uw-madison-gi-tract-image-segmenta...   \n",
       "\n",
       "                                          image_path  height  width  \\\n",
       "0  /data/uvseg/uw-madison-gi-tract-image-segmenta...     266    266   \n",
       "1  /data/uvseg/uw-madison-gi-tract-image-segmenta...     266    266   \n",
       "2  /data/uvseg/uw-madison-gi-tract-image-segmenta...     266    266   \n",
       "3  /data/uvseg/uw-madison-gi-tract-image-segmenta...     266    266   \n",
       "4  /data/uvseg/uw-madison-gi-tract-image-segmenta...     266    266   \n",
       "\n",
       "  case_id_str day_num_str    slice_id  \n",
       "0     case123       day20  slice_0001  \n",
       "1     case123       day20  slice_0002  \n",
       "2     case123       day20  slice_0003  \n",
       "3     case123       day20  slice_0004  \n",
       "4     case123       day20  slice_0005  "
      ]
     },
     "execution_count": 31,
     "metadata": {},
     "output_type": "execute_result"
    }
   ],
   "source": [
    "test_df.head()"
   ]
  },
  {
   "cell_type": "code",
   "execution_count": 32,
   "id": "67e82d7b",
   "metadata": {
    "execution": {
     "iopub.execute_input": "2022-06-05T14:36:07.366263Z",
     "iopub.status.busy": "2022-06-05T14:36:07.365486Z",
     "iopub.status.idle": "2022-06-05T14:36:07.488524Z",
     "shell.execute_reply": "2022-06-05T14:36:07.488043Z",
     "shell.execute_reply.started": "2022-06-05T14:32:57.733089Z"
    },
    "papermill": {
     "duration": 0.149704,
     "end_time": "2022-06-05T14:36:07.488647",
     "exception": false,
     "start_time": "2022-06-05T14:36:07.338943",
     "status": "completed"
    },
    "tags": []
   },
   "outputs": [],
   "source": [
    "test_data = []\n",
    "\n",
    "for group in test_df.groupby([\"case_id_str\", \"day_num_str\"]):\n",
    "\n",
    "    case_id_str, day_num_str = group[0]\n",
    "    group_id = case_id_str + \"_\" + day_num_str\n",
    "    group_df = group[1].sort_values(\"slice_id\", ascending=True)\n",
    "    n_slices = group_df.shape[0]\n",
    "    group_slices, group_ids = [], []\n",
    "    for idx in range(n_slices):\n",
    "        slc = group_df.iloc[idx]\n",
    "        group_slices.append(slc.image_path)\n",
    "        group_ids.append(slc.id)\n",
    "    test_data.append({\"image\": group_slices, \"id\": group_ids})"
   ]
  },
  {
   "cell_type": "markdown",
   "id": "d1eb5d5b",
   "metadata": {
    "papermill": {
     "duration": 0.0176,
     "end_time": "2022-06-05T14:36:07.524080",
     "exception": false,
     "start_time": "2022-06-05T14:36:07.506480",
     "status": "completed"
    },
    "tags": []
   },
   "source": [
    "## Prepare Transforms, Dataset, DataLoader"
   ]
  },
  {
   "cell_type": "code",
   "execution_count": 33,
   "id": "ffb04441",
   "metadata": {
    "execution": {
     "iopub.execute_input": "2022-06-05T14:36:07.619481Z",
     "iopub.status.busy": "2022-06-05T14:36:07.569260Z",
     "iopub.status.idle": "2022-06-05T14:36:07.629061Z",
     "shell.execute_reply": "2022-06-05T14:36:07.628472Z",
     "shell.execute_reply.started": "2022-06-05T14:32:58.029051Z"
    },
    "papermill": {
     "duration": 0.087369,
     "end_time": "2022-06-05T14:36:07.629189",
     "exception": false,
     "start_time": "2022-06-05T14:36:07.541820",
     "status": "completed"
    },
    "tags": []
   },
   "outputs": [],
   "source": [
    "class cfg:\n",
    "    img_size = (224, 224, 80)\n",
    "    in_channels = 1\n",
    "    out_channels = 3\n",
    "    device = torch.device(\"cuda:1\" if torch.cuda.is_available() else \"cpu\")\n",
    "    weights = glob(\"../output/unet_3d_multilabel_large_net/fold0/best_weights.pth\")\n",
    "    batch_size = 1\n",
    "    sw_batch_size = 4"
   ]
  },
  {
   "cell_type": "code",
   "execution_count": 34,
   "id": "b10540af",
   "metadata": {
    "execution": {
     "iopub.execute_input": "2022-06-05T14:36:07.674564Z",
     "iopub.status.busy": "2022-06-05T14:36:07.673768Z",
     "iopub.status.idle": "2022-06-05T14:36:07.675719Z",
     "shell.execute_reply": "2022-06-05T14:36:07.676236Z",
     "shell.execute_reply.started": "2022-06-05T14:32:58.013965Z"
    },
    "papermill": {
     "duration": 0.029287,
     "end_time": "2022-06-05T14:36:07.676360",
     "exception": false,
     "start_time": "2022-06-05T14:36:07.647073",
     "status": "completed"
    },
    "tags": []
   },
   "outputs": [],
   "source": [
    "test_transforms = Compose(\n",
    "    [\n",
    "        LoadImaged(keys=\"image\"), # d, h, w\n",
    "        AddChanneld(keys=\"image\"), # c, d, h, w\n",
    "        Transposed(keys=\"image\", indices=[0, 2, 3, 1]), # c, w, h, d\n",
    "        Lambdad(keys=\"image\", func=lambda x: x / x.max()),\n",
    "        SpatialPadd(keys=\"image\", spatial_size=cfg.img_size),  # in case less than 80 slices\n",
    "        EnsureTyped(keys=\"image\", dtype=torch.float32),\n",
    "    ]\n",
    ")\n",
    "\n",
    "test_ds = CacheDataset(\n",
    "        data=test_data,\n",
    "        transform=test_transforms,\n",
    "        cache_rate=0.0,\n",
    "        num_workers=8,\n",
    "    )\n",
    "\n",
    "test_dataloader = DataLoader(\n",
    "    test_ds,\n",
    "    batch_size=cfg.batch_size,\n",
    "    num_workers=2,\n",
    "    pin_memory=True,\n",
    ")"
   ]
  },
  {
   "cell_type": "markdown",
   "id": "ca36a66f",
   "metadata": {
    "papermill": {
     "duration": 0.017677,
     "end_time": "2022-06-05T14:36:07.711627",
     "exception": false,
     "start_time": "2022-06-05T14:36:07.693950",
     "status": "completed"
    },
    "tags": []
   },
   "source": [
    "## Prepare Network"
   ]
  },
  {
   "cell_type": "code",
   "execution_count": 35,
   "id": "91d73e13",
   "metadata": {
    "execution": {
     "iopub.execute_input": "2022-06-05T14:36:07.754097Z",
     "iopub.status.busy": "2022-06-05T14:36:07.751252Z",
     "iopub.status.idle": "2022-06-05T14:36:11.181127Z",
     "shell.execute_reply": "2022-06-05T14:36:11.182015Z",
     "shell.execute_reply.started": "2022-06-05T14:32:58.043849Z"
    },
    "papermill": {
     "duration": 3.453094,
     "end_time": "2022-06-05T14:36:11.182294",
     "exception": false,
     "start_time": "2022-06-05T14:36:07.729200",
     "status": "completed"
    },
    "tags": []
   },
   "outputs": [],
   "source": [
    "model = UNet(\n",
    "    spatial_dims=3,\n",
    "    in_channels=cfg.in_channels,\n",
    "    out_channels=cfg.out_channels,\n",
    "    channels=(32, 64, 128, 256, 512),\n",
    "    strides=(2, 2, 2, 2),\n",
    "    kernel_size=3,\n",
    "    up_kernel_size=3,\n",
    "    num_res_units=2,\n",
    "    act=\"PRELU\",\n",
    "    norm=\"BATCH\",\n",
    "    dropout=0.2,\n",
    "    bias=True,\n",
    "    dimensions=None,\n",
    ").to(cfg.device)"
   ]
  },
  {
   "cell_type": "markdown",
   "id": "4f6c6c7d",
   "metadata": {
    "papermill": {
     "duration": 0.030232,
     "end_time": "2022-06-05T14:36:11.247195",
     "exception": false,
     "start_time": "2022-06-05T14:36:11.216963",
     "status": "completed"
    },
    "tags": []
   },
   "source": [
    "## Infer"
   ]
  },
  {
   "cell_type": "code",
   "execution_count": 36,
   "id": "647040ac",
   "metadata": {
    "execution": {
     "iopub.execute_input": "2022-06-05T14:36:11.314222Z",
     "iopub.status.busy": "2022-06-05T14:36:11.313362Z",
     "iopub.status.idle": "2022-06-05T14:36:11.315546Z",
     "shell.execute_reply": "2022-06-05T14:36:11.314860Z",
     "shell.execute_reply.started": "2022-06-05T14:33:02.013450Z"
    },
    "papermill": {
     "duration": 0.039726,
     "end_time": "2022-06-05T14:36:11.315690",
     "exception": false,
     "start_time": "2022-06-05T14:36:11.275964",
     "status": "completed"
    },
    "tags": []
   },
   "outputs": [],
   "source": [
    "# ref.: https://www.kaggle.com/stainsby/fast-tested-rle\n",
    "def rle_encode(img):\n",
    "    \"\"\" TBD\n",
    "    \n",
    "    Args:\n",
    "        img (np.array): \n",
    "            - 1 indicating mask\n",
    "            - 0 indicating background\n",
    "    \n",
    "    Returns: \n",
    "        run length as string formated\n",
    "    \"\"\"\n",
    "    \n",
    "    pixels = img.flatten()\n",
    "    pixels = np.concatenate([[0], pixels, [0]])\n",
    "    runs = np.where(pixels[1:] != pixels[:-1])[0] + 1\n",
    "    runs[1::2] -= runs[::2]\n",
    "    return ' '.join(str(x) for x in runs)"
   ]
  },
  {
   "cell_type": "code",
   "execution_count": 42,
   "id": "9df575cc",
   "metadata": {
    "execution": {
     "iopub.execute_input": "2022-06-05T14:36:11.382066Z",
     "iopub.status.busy": "2022-06-05T14:36:11.381297Z",
     "iopub.status.idle": "2022-06-05T14:36:40.184447Z",
     "shell.execute_reply": "2022-06-05T14:36:40.184007Z"
    },
    "papermill": {
     "duration": 28.839861,
     "end_time": "2022-06-05T14:36:40.184586",
     "exception": false,
     "start_time": "2022-06-05T14:36:11.344725",
     "status": "completed"
    },
    "tags": []
   },
   "outputs": [
    {
     "name": "stderr",
     "output_type": "stream",
     "text": [
      "100%|██████████| 7/7 [00:33<00:00,  4.77s/it]\n"
     ]
    }
   ],
   "source": [
    "outputs = []\n",
    "\n",
    "post_pred = Compose([\n",
    "    Activations(sigmoid=True),\n",
    "    AsDiscrete(threshold=0.5),\n",
    "])\n",
    "\n",
    "model.eval()\n",
    "torch.set_grad_enabled(False)\n",
    "progress_bar = tqdm(range(len(test_dataloader)))\n",
    "val_it = iter(test_dataloader)\n",
    "for itr in progress_bar:\n",
    "    batch = next(val_it)\n",
    "    test_inputs = batch[\"image\"].to(cfg.device)\n",
    "\n",
    "    pred_all = []\n",
    "    for weights in cfg.weights:\n",
    "        model.load_state_dict(torch.load(weights)['model'])\n",
    "        pred = sliding_window_inference(test_inputs, cfg.img_size, cfg.sw_batch_size, model)\n",
    "        pred_all.append(pred)\n",
    "        # do 4 tta\n",
    "        for dims in [[2], [3], [2, 3]]:\n",
    "            flip_pred = sliding_window_inference(torch.flip(test_inputs, dims=dims), cfg.img_size, cfg.sw_batch_size, model)\n",
    "            flip_pred = torch.flip(flip_pred, dims=dims)\n",
    "            pred_all.append(flip_pred)\n",
    "    \n",
    "    pred_all = torch.mean(torch.stack(pred_all), dim=0)[0]\n",
    "    pred_all = post_pred(pred_all)\n",
    "    # c, w, h, d to d, c, h, w\n",
    "    pred_all = torch.permute(pred_all, [3, 0, 2, 1]).cpu().numpy().astype(np.uint8)\n",
    "    id_outputs = from_engine([\"id\"])(batch)[0]\n",
    "\n",
    "    for test_output, id_output in zip(pred_all, id_outputs):\n",
    "        id_name = id_output[0]\n",
    "        lb, sb, st = test_output\n",
    "        outputs.append([id_name, \"large_bowel\", rle_encode(lb)])\n",
    "        outputs.append([id_name, \"small_bowel\", rle_encode(sb)])\n",
    "        outputs.append([id_name, \"stomach\", rle_encode(st)])\n"
   ]
  },
  {
   "cell_type": "code",
   "execution_count": 45,
   "id": "fd1d970a",
   "metadata": {
    "execution": {
     "iopub.execute_input": "2022-06-05T14:36:40.287380Z",
     "iopub.status.busy": "2022-06-05T14:36:40.270964Z",
     "iopub.status.idle": "2022-06-05T14:36:40.291197Z",
     "shell.execute_reply": "2022-06-05T14:36:40.290237Z",
     "shell.execute_reply.started": "2022-05-17T12:19:58.604295Z"
    },
    "papermill": {
     "duration": 0.085401,
     "end_time": "2022-06-05T14:36:40.291323",
     "exception": false,
     "start_time": "2022-06-05T14:36:40.205922",
     "status": "completed"
    },
    "tags": []
   },
   "outputs": [
    {
     "data": {
      "text/html": [
       "<div>\n",
       "<style scoped>\n",
       "    .dataframe tbody tr th:only-of-type {\n",
       "        vertical-align: middle;\n",
       "    }\n",
       "\n",
       "    .dataframe tbody tr th {\n",
       "        vertical-align: top;\n",
       "    }\n",
       "\n",
       "    .dataframe thead th {\n",
       "        text-align: right;\n",
       "    }\n",
       "</style>\n",
       "<table border=\"1\" class=\"dataframe\">\n",
       "  <thead>\n",
       "    <tr style=\"text-align: right;\">\n",
       "      <th></th>\n",
       "      <th>id</th>\n",
       "      <th>class</th>\n",
       "      <th>predicted</th>\n",
       "    </tr>\n",
       "  </thead>\n",
       "  <tbody>\n",
       "    <tr>\n",
       "      <th>0</th>\n",
       "      <td>case123_day0_slice_0001</td>\n",
       "      <td>large_bowel</td>\n",
       "      <td></td>\n",
       "    </tr>\n",
       "    <tr>\n",
       "      <th>1</th>\n",
       "      <td>case123_day0_slice_0001</td>\n",
       "      <td>small_bowel</td>\n",
       "      <td></td>\n",
       "    </tr>\n",
       "    <tr>\n",
       "      <th>2</th>\n",
       "      <td>case123_day0_slice_0001</td>\n",
       "      <td>stomach</td>\n",
       "      <td></td>\n",
       "    </tr>\n",
       "    <tr>\n",
       "      <th>3</th>\n",
       "      <td>case123_day0_slice_0002</td>\n",
       "      <td>large_bowel</td>\n",
       "      <td></td>\n",
       "    </tr>\n",
       "    <tr>\n",
       "      <th>4</th>\n",
       "      <td>case123_day0_slice_0002</td>\n",
       "      <td>small_bowel</td>\n",
       "      <td></td>\n",
       "    </tr>\n",
       "  </tbody>\n",
       "</table>\n",
       "</div>"
      ],
      "text/plain": [
       "                        id        class predicted\n",
       "0  case123_day0_slice_0001  large_bowel          \n",
       "1  case123_day0_slice_0001  small_bowel          \n",
       "2  case123_day0_slice_0001      stomach          \n",
       "3  case123_day0_slice_0002  large_bowel          \n",
       "4  case123_day0_slice_0002  small_bowel          "
      ]
     },
     "execution_count": 45,
     "metadata": {},
     "output_type": "execute_result"
    }
   ],
   "source": [
    "submit = pd.DataFrame(data=np.array(outputs), columns=[\"id\", \"class\", \"predicted\"])\n",
    "submit.head()"
   ]
  },
  {
   "cell_type": "code",
   "execution_count": 44,
   "id": "6bb80df7",
   "metadata": {
    "execution": {
     "iopub.execute_input": "2022-06-05T14:36:40.341298Z",
     "iopub.status.busy": "2022-06-05T14:36:40.340746Z",
     "iopub.status.idle": "2022-06-05T14:36:40.372240Z",
     "shell.execute_reply": "2022-06-05T14:36:40.371748Z",
     "shell.execute_reply.started": "2022-05-06T10:23:35.877417Z"
    },
    "papermill": {
     "duration": 0.05895,
     "end_time": "2022-06-05T14:36:40.372365",
     "exception": false,
     "start_time": "2022-06-05T14:36:40.313415",
     "status": "completed"
    },
    "tags": []
   },
   "outputs": [],
   "source": [
    "# Fix sub error, refers to: https://www.kaggle.com/competitions/uw-madison-gi-tract-image-segmentation/discussion/320541\n",
    "if not debug:\n",
    "    sub_df = pd.read_csv('../input/uwdatapreprocessing/sample_submission.csv')\n",
    "    del sub_df['predicted']\n",
    "    sub_df = sub_df.merge(submit, on=['id','class'])\n",
    "    sub_df.to_csv('submission.csv',index=False)\n",
    "else:\n",
    "    submit.to_csv('submission.csv', index=False)"
   ]
  },
  {
   "cell_type": "code",
   "execution_count": null,
   "id": "0057948a",
   "metadata": {
    "papermill": {
     "duration": 0.021274,
     "end_time": "2022-06-05T14:36:40.415953",
     "exception": false,
     "start_time": "2022-06-05T14:36:40.394679",
     "status": "completed"
    },
    "tags": []
   },
   "outputs": [],
   "source": []
  }
 ],
 "metadata": {
  "kernelspec": {
   "display_name": "Python 3.9.12 ('swinunetr')",
   "language": "python",
   "name": "python3"
  },
  "language_info": {
   "codemirror_mode": {
    "name": "ipython",
    "version": 3
   },
   "file_extension": ".py",
   "mimetype": "text/x-python",
   "name": "python",
   "nbconvert_exporter": "python",
   "pygments_lexer": "ipython3",
   "version": "3.9.12"
  },
  "papermill": {
   "default_parameters": {},
   "duration": 147.381024,
   "end_time": "2022-06-05T14:36:43.206513",
   "environment_variables": {},
   "exception": null,
   "input_path": "__notebook__.ipynb",
   "output_path": "__notebook__.ipynb",
   "parameters": {},
   "start_time": "2022-06-05T14:34:15.825489",
   "version": "2.3.3"
  },
  "vscode": {
   "interpreter": {
    "hash": "873da422bfa5024504c333ea2db706f6ac2628ae8c3270e36659600b30b76f6f"
   }
  }
 },
 "nbformat": 4,
 "nbformat_minor": 5
}
